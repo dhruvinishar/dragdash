{
 "cells": [
  {
   "cell_type": "code",
   "execution_count": 1,
   "metadata": {},
   "outputs": [
    {
     "name": "stderr",
     "output_type": "stream",
     "text": [
      "<ipython-input-1-47604f7539c0>:9: UserWarning: \n",
      "The dash_core_components package is deprecated. Please replace\n",
      "`import dash_core_components as dcc` with `from dash import dcc`\n",
      "  import dash_core_components as dcc\n",
      "<ipython-input-1-47604f7539c0>:10: UserWarning: \n",
      "The dash_html_components package is deprecated. Please replace\n",
      "`import dash_html_components as html` with `from dash import html`\n",
      "  import dash_html_components as html\n"
     ]
    }
   ],
   "source": [
    "# All the imports\n",
    "#import dash, plotly, and dash for jupyter notebook \n",
    "import dash\n",
    "import plotly.express as px\n",
    "import plotly.graph_objs as go\n",
    "from jupyter_dash import JupyterDash #for jupyter notebook\n",
    "\n",
    "#import front end libraries \n",
    "import dash_core_components as dcc \n",
    "import dash_html_components as html \n",
    "import dash_bootstrap_components as dbc \n",
    "from dash.dependencies import Input, Output\n",
    "\n",
    "#other packages \n",
    "import pandas as pd\n",
    "import numpy as np"
   ]
  },
  {
   "cell_type": "code",
   "execution_count": 2,
   "metadata": {},
   "outputs": [],
   "source": [
    "# Read the data\n",
    "# Data from https://cran.r-project.org/web/packages/dragracer/index.html\n",
    "rpdr_c = pd.read_csv('data/rpdr_contestants.csv')\n",
    "rpdr_cp = pd.read_csv('data/rpdr_contestant_performance.csv')\n",
    "rpdr_e = pd.read_csv('data/rpdr_episodes.csv')\n",
    "df = pd.read_csv('data/drag.csv')"
   ]
  },
  {
   "cell_type": "code",
   "execution_count": 3,
   "metadata": {},
   "outputs": [
    {
     "name": "stderr",
     "output_type": "stream",
     "text": [
      "<ipython-input-3-e04e0b118677>:20: SettingWithCopyWarning: \n",
      "A value is trying to be set on a copy of a slice from a DataFrame.\n",
      "Try using .loc[row_indexer,col_indexer] = value instead\n",
      "\n",
      "See the caveats in the documentation: https://pandas.pydata.org/pandas-docs/stable/user_guide/indexing.html#returning-a-view-versus-a-copy\n",
      "  missc['outcome_count_scaled'] = missc_outcomes / missc_outcomes.sum()\n"
     ]
    }
   ],
   "source": [
    "# Data Cleaning and Pre-processing before visualizing\n",
    "# Remove episodes where no ranked competition occurred (i.e. the reunion)\n",
    "to_remove = rpdr_cp[(rpdr_cp['episode'] == 13) & (rpdr_cp['season'].isin(['S11', 'S12']))]\n",
    "rpdr_cp = rpdr_cp.drop(to_remove.index)\n",
    "\n",
    "# Regroup episode rankings\n",
    "# Making it to the finale is considered a win, OUT = not in episode/or eliminated both included\n",
    "outcome_map = {'OUT': 'OUT', 'LOST1ST ROUND': 'OUT', 'LOST2ND ROUND': 'OUT', 'LOST3RD ROUND': 'OUT', 'MISSCON': 'OUT',\n",
    "               'DISQ': 'OUT', 'RTRN': 'OUT', 'SAFE+DEPT': 'OUT', 'BTM': 'BOTTOM', 'TOP2': 'WIN', 'WIN+RTRN': 'WIN'}\n",
    "rpdr_cp['outcome2'] = rpdr_cp['outcome'].replace(outcome_map)\n",
    "\n",
    "#filter to winners only \n",
    "winners = rpdr_cp[rpdr_cp['rank'] == 1].drop([676, 1706], axis=0)\n",
    "outcomes = winners.groupby('contestant')['participant'].count()\n",
    "winners['outcome_count_scaled'] = outcomes / outcomes.sum()\n",
    "\n",
    "#DATA PREPROCESSING: MISS CONGENIALITY \n",
    "missc = rpdr_cp[rpdr_cp['missc'] == 1]\n",
    "missc_outcomes = missc.groupby('contestant')['participant'].count()\n",
    "missc['outcome_count_scaled'] = missc_outcomes / missc_outcomes.sum()\n"
   ]
  },
  {
   "cell_type": "code",
   "execution_count": 35,
   "metadata": {},
   "outputs": [
    {
     "name": "stdout",
     "output_type": "stream",
     "text": [
      "Dash is running on http://127.0.0.1:8050/\n",
      "\n"
     ]
    },
    {
     "data": {
      "text/html": [
       "\n",
       "        <iframe\n",
       "            width=\"100%\"\n",
       "            height=\"650\"\n",
       "            src=\"http://127.0.0.1:8050/\"\n",
       "            frameborder=\"0\"\n",
       "            allowfullscreen\n",
       "        ></iframe>\n",
       "        "
      ],
      "text/plain": [
       "<IPython.lib.display.IFrame at 0x7f91ac370700>"
      ]
     },
     "metadata": {},
     "output_type": "display_data"
    }
   ],
   "source": [
    "external_stylesheets = ['https://codepen.io/chriddyp/pen/bWLwgP.css']\n",
    "\n",
    "app = JupyterDash(__name__, external_stylesheets=external_stylesheets)\n",
    "\n",
    "app.layout = html.Div([\n",
    "    html.Img(src='assets/logo.png', height='80px', style={'float': 'left'}),\n",
    "    html.H6(\n",
    "        children = 'Queen Performance by Season',\n",
    "        style = {'textAlign': 'left-center', \n",
    "                 'color': '#FF1D8E',\n",
    "                 'font-family': 'Brush Script MT',\n",
    "                 'font-size': '55px'}),\n",
    "    dcc.Dropdown(\n",
    "        id = 'season_dropdown', clearable = False,\n",
    "        value = 'S07',\n",
    "        options = [{'label':i, 'value': i} for i in rpdr_cp['season'].unique()],\n",
    "        style = {'width': '75%', \n",
    "                 'margin': 'auto'}\n",
    "    ),\n",
    "    dcc.Graph(\n",
    "        id='rpdr_graph',\n",
    "        figure= {}\n",
    "    )\n",
    "]\n",
    ")\n",
    "\n",
    "@app.callback( \n",
    "    Output('rpdr_graph', 'figure'), \n",
    "    [Input('season_dropdown', 'value')]) \n",
    "def update_graph(season):\n",
    "    s_x = rpdr_cp[rpdr_cp['season'] == str(season)]\n",
    "    fig1 = px.bar(s_x, x='contestant', color = 'outcome2', \n",
    "                 labels={'count':'Total performance', \n",
    "                         'contestant':'Queens (by Rank)',\n",
    "                         'outcome2':'Outcome'},\n",
    "                 color_discrete_sequence=['#636EFA', '#FF6692', '#00CC96', '#FFA15A', '#FFFF7C','#999999'],\n",
    "                 category_orders={\"outcome2\": [\"WIN\", \"HIGH\", \"SAFE\", \"LOW\", \"BOTTOM\",\"OUT\"]})\n",
    "\n",
    "    fig1.update_layout(legend_traceorder='normal',\n",
    "                       xaxis={'categoryorder':'array', \n",
    "                            'categoryarray':s_x['contestant'].unique()},\n",
    "                 plot_bgcolor='#F7DAE4')\n",
    "    \n",
    "    fig1.update_traces(marker=dict(line=dict(width=0.7, color='black')))\n",
    "\n",
    "    return fig1\n",
    "\n",
    "if __name__ == '__main__':\n",
    "    app.run_server(mode = 'inline')"
   ]
  }
 ],
 "metadata": {
  "kernelspec": {
   "display_name": "Python 3",
   "language": "python",
   "name": "python3"
  },
  "language_info": {
   "codemirror_mode": {
    "name": "ipython",
    "version": 3
   },
   "file_extension": ".py",
   "mimetype": "text/x-python",
   "name": "python",
   "nbconvert_exporter": "python",
   "pygments_lexer": "ipython3",
   "version": "3.8.3"
  },
  "orig_nbformat": 4
 },
 "nbformat": 4,
 "nbformat_minor": 2
}
